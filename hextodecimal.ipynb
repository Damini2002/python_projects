{
 "cells": [
  {
   "cell_type": "markdown",
   "id": "43a7e102",
   "metadata": {},
   "source": [
    "# converting hex to decimal\n"
   ]
  },
  {
   "cell_type": "code",
   "execution_count": 18,
   "id": "bbbbc094",
   "metadata": {},
   "outputs": [],
   "source": [
    "def chtd(n):\n",
    "    m=0\n",
    "    po=0\n",
    "    while n!=0:\n",
    "        g=n%10\n",
    "        n=n//10\n",
    "        m=m+(g*pow(16,po))\n",
    "        po=po+1\n",
    "    return m\n"
   ]
  },
  {
   "cell_type": "code",
   "execution_count": 20,
   "id": "c705a2e8",
   "metadata": {},
   "outputs": [
    {
     "name": "stdout",
     "output_type": "stream",
     "text": [
      "enter the hexadecimal number1010\n",
      "4112\n"
     ]
    }
   ],
   "source": [
    "val=int(input(\"enter the hexadecimal number\"))\n",
    "ans=chtd(val)\n",
    "print(ans)"
   ]
  },
  {
   "cell_type": "code",
   "execution_count": null,
   "id": "43aa5e0e",
   "metadata": {},
   "outputs": [],
   "source": []
  }
 ],
 "metadata": {
  "kernelspec": {
   "display_name": "Python 3 (ipykernel)",
   "language": "python",
   "name": "python3"
  },
  "language_info": {
   "codemirror_mode": {
    "name": "ipython",
    "version": 3
   },
   "file_extension": ".py",
   "mimetype": "text/x-python",
   "name": "python",
   "nbconvert_exporter": "python",
   "pygments_lexer": "ipython3",
   "version": "3.9.13"
  }
 },
 "nbformat": 4,
 "nbformat_minor": 5
}
