{
 "cells": [
  {
   "cell_type": "code",
   "execution_count": null,
   "id": "8a4d620a",
   "metadata": {},
   "outputs": [
    {
     "name": "stdout",
     "output_type": "stream",
     "text": [
      "1 for beginner: 8 turns\n",
      "2 for intermediate: 6 turns\n",
      "3 for advance: 4 turns\n"
     ]
    }
   ],
   "source": [
    "import random\n",
    "n=random.randint(0,10)\n",
    "print(\"1 for beginner: 8 turns\")\n",
    "print(\"2 for intermediate: 6 turns\")\n",
    "print(\"3 for advance: 4 turns\")\n",
    "p=int(input(\"enter your profiency\"))\n",
    "if p==1:\n",
    "    t=8\n",
    "    while t!=0:\n",
    "        g=int(input(\"enter your guess\"))\n",
    "        if g>n:\n",
    "            print(\"too high\")\n",
    "            t-=1\n",
    "        elif g<n:\n",
    "            print(\"too low\")\n",
    "            t-=1\n",
    "        else:\n",
    "            print(\"correct guess\")\n",
    "            t=0\n",
    "elif p==2:\n",
    "    t=6\n",
    "    while t!=0:\n",
    "        g=int(input(\"enter your guess\"))\n",
    "        if g>n:\n",
    "            print(\"too high\")\n",
    "            t-=1\n",
    "        elif g<n:\n",
    "            print(\"too low\")\n",
    "            t-=1\n",
    "        else:\n",
    "            print(\"correct guess\")\n",
    "            t=0\n",
    "elif p==3:\n",
    "    t=4\n",
    "    while t!=0:\n",
    "        g=int(input(\"enter your guess\"))\n",
    "        if g>n:\n",
    "            print(\"too high\")\n",
    "            t-=1\n",
    "        elif g<n:\n",
    "            print(\"too low\")\n",
    "            t-=1\n",
    "        else:\n",
    "            print(\"correct guess\")\n",
    "            t=0\n",
    "        "
   ]
  },
  {
   "cell_type": "code",
   "execution_count": null,
   "id": "2125f13c",
   "metadata": {},
   "outputs": [],
   "source": []
  }
 ],
 "metadata": {
  "kernelspec": {
   "display_name": "Python 3 (ipykernel)",
   "language": "python",
   "name": "python3"
  },
  "language_info": {
   "codemirror_mode": {
    "name": "ipython",
    "version": 3
   },
   "file_extension": ".py",
   "mimetype": "text/x-python",
   "name": "python",
   "nbconvert_exporter": "python",
   "pygments_lexer": "ipython3",
   "version": "3.9.13"
  }
 },
 "nbformat": 4,
 "nbformat_minor": 5
}
